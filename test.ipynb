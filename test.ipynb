{
 "nbformat": 4,
 "nbformat_minor": 2,
 "metadata": {
  "language_info": {
   "name": "python",
   "codemirror_mode": {
    "name": "ipython",
    "version": 3
   },
   "version": "3.7.4"
  },
  "orig_nbformat": 2,
  "file_extension": ".py",
  "mimetype": "text/x-python",
  "name": "python",
  "npconvert_exporter": "python",
  "pygments_lexer": "ipython3",
  "version": 3
 },
 "cells": [
  {
   "cell_type": "code",
   "execution_count": 8,
   "metadata": {},
   "outputs": [],
   "source": [
    "import pandas as pd\n",
    "import os"
   ]
  },
  {
   "cell_type": "code",
   "execution_count": 9,
   "metadata": {},
   "outputs": [],
   "source": [
    "normal_files = [\n",
    "    'Ethernet_IPv6_ICMPv6 Destination Unreachable_IPv6 in ICMPv6_TCP in ICMP_HTTP 1_HTTP Response_Raw.csv',\n",
    "    'Ethernet_IPv6_ICMPv6 Packet Too Big_IPv6 in ICMPv6_TCP in ICMP_HTTP 1_HTTP Response_Raw.csv',\n",
    "    'Ethernet_IPv6_ICMPv6 Packet Too Big_IPv6 in ICMPv6_TCP in ICMP_HTTP 1_Raw.csv',\n",
    "    'Ethernet_IPv6_TCP_HTTP 1_HTTP Request.csv',\n",
    "    'Ethernet_IPv6_TCP_HTTP 1_HTTP Request_Raw.csv',\n",
    "    'Ethernet_IPv6_TCP_HTTP 1_HTTP Response.csv',\n",
    "    'Ethernet_IPv6_TCP_HTTP 1_HTTP Response_Raw.csv',\n",
    "    'Ethernet_IPv6_TCP_HTTP 1_Raw.csv',\n",
    "]"
   ]
  },
  {
   "cell_type": "code",
   "execution_count": 10,
   "metadata": {},
   "outputs": [],
   "source": [
    "normal_files = [os.path.join('output', 'normal', f) for f in normal_files]"
   ]
  },
  {
   "cell_type": "code",
   "execution_count": 11,
   "metadata": {},
   "outputs": [],
   "source": [
    "file = normal_files[0]"
   ]
  },
  {
   "cell_type": "code",
   "execution_count": 12,
   "metadata": {},
   "outputs": [
    {
     "name": "stdout",
     "output_type": "stream",
     "text": "output\\normal\\Ethernet_IPv6_ICMPv6 Destination Unreachable_IPv6 in ICMPv6_TCP in ICMP_HTTP 1_HTTP Response_Raw.csv\n"
    }
   ],
   "source": [
    "print(file)"
   ]
  },
  {
   "cell_type": "code",
   "execution_count": 13,
   "metadata": {},
   "outputs": [],
   "source": [
    "df = pd.read_csv(file)"
   ]
  },
  {
   "cell_type": "code",
   "execution_count": 14,
   "metadata": {},
   "outputs": [
    {
     "data": {
      "text/plain": "Index(['label', 'time', 'Ethernet_dst_0', 'Ethernet_dst_1', 'Ethernet_dst_2',\n       'Ethernet_dst_3', 'Ethernet_dst_4', 'Ethernet_dst_5', 'Ethernet_src_0',\n       'Ethernet_src_1', 'Ethernet_src_2', 'Ethernet_src_3', 'Ethernet_src_4',\n       'Ethernet_src_5', 'Ethernet_type', 'IPv6_version', 'IPv6_tc', 'IPv6_fl',\n       'IPv6_plen', 'IPv6_nh', 'IPv6_hlim', 'IPv6_src_0', 'IPv6_src_1',\n       'IPv6_src_2', 'IPv6_src_3', 'IPv6_src_4', 'IPv6_src_5', 'IPv6_dst_0',\n       'IPv6_dst_1', 'IPv6_dst_2', 'IPv6_dst_3', 'IPv6_dst_4', 'IPv6_dst_5',\n       'ICMPv6 Destination Unreachable_type',\n       'ICMPv6 Destination Unreachable_code',\n       'ICMPv6 Destination Unreachable_cksum',\n       'ICMPv6 Destination Unreachable_length',\n       'ICMPv6 Destination Unreachable_unused', 'IPv6 in ICMPv6_version',\n       'IPv6 in ICMPv6_tc', 'IPv6 in ICMPv6_fl', 'IPv6 in ICMPv6_plen',\n       'IPv6 in ICMPv6_nh', 'IPv6 in ICMPv6_hlim', 'IPv6 in ICMPv6_src_0',\n       'IPv6 in ICMPv6_src_1', 'IPv6 in ICMPv6_src_2', 'IPv6 in ICMPv6_src_3',\n       'IPv6 in ICMPv6_src_4', 'IPv6 in ICMPv6_src_5', 'IPv6 in ICMPv6_dst_0',\n       'IPv6 in ICMPv6_dst_1', 'IPv6 in ICMPv6_dst_2', 'IPv6 in ICMPv6_dst_3',\n       'IPv6 in ICMPv6_dst_4', 'IPv6 in ICMPv6_dst_5', 'TCP in ICMP_sport',\n       'TCP in ICMP_dport', 'TCP in ICMP_seq', 'TCP in ICMP_ack',\n       'TCP in ICMP_dataofs', 'TCP in ICMP_reserved', 'TCP in ICMP_flags',\n       'TCP in ICMP_window', 'TCP in ICMP_chksum', 'TCP in ICMP_urgptr',\n       'TCP in ICMP_options_MSS', 'TCP in ICMP_options_WScale',\n       'TCP in ICMP_options_SAckOK', 'TCP in ICMP_options_SAck',\n       'TCP in ICMP_options_Timestamp', 'TCP in ICMP_options_AltChkSum',\n       'TCP in ICMP_options_AltChkSumOpt', 'TCP in ICMP_options_Mood',\n       'TCP in ICMP_options_UTO', 'TCP in ICMP_options_TFO',\n       'HTTP Response_Cache_Control', 'HTTP Response_Connection',\n       'HTTP Response_Content_Language', 'HTTP Response_Content_Length',\n       'HTTP Response_Content_Type', 'HTTP Response_Date',\n       'HTTP Response_Server', 'HTTP Response_Via',\n       'HTTP Response_Http_Version', 'HTTP Response_Status_Code',\n       'HTTP Response_Reason_Phrase', 'Raw_load'],\n      dtype='object')"
     },
     "execution_count": 14,
     "metadata": {},
     "output_type": "execute_result"
    }
   ],
   "source": [
    "df.columns"
   ]
  },
  {
   "cell_type": "code",
   "execution_count": null,
   "metadata": {},
   "outputs": [],
   "source": [
    "need_columns = [\n",
    "    'label', \n",
    "    'time', \n",
    "    'Ethernet_dst_0', \n",
    "    'Ethernet_dst_1', \n",
    "    'Ethernet_dst_2',\n",
    "    'Ethernet_dst_3', \n",
    "    'Ethernet_dst_4', \n",
    "    'Ethernet_dst_5', \n",
    "    'Ethernet_src_0',\n",
    "    'Ethernet_src_1', \n",
    "    'Ethernet_src_2', \n",
    "    'Ethernet_src_3', \n",
    "    'Ethernet_src_4',\n",
    "    'Ethernet_src_5',\n",
    "    'IPv6_src_0', \n",
    "    'IPv6_src_1',\n",
    "    'IPv6_src_2', \n",
    "    'IPv6_src_3', \n",
    "    'IPv6_src_4', \n",
    "    'IPv6_src_5', \n",
    "    'IPv6_dst_0',\n",
    "    'IPv6_dst_1', \n",
    "    'IPv6_dst_2', \n",
    "    'IPv6_dst_3', \n",
    "    'IPv6_dst_4', \n",
    "    'IPv6_dst_5',\n",
    "    \n",
    "]"
   ]
  }
 ]
}